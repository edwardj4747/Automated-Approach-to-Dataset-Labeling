{
  "nbformat": 4,
  "nbformat_minor": 0,
  "metadata": {
    "colab": {
      "name": "Aura/MLS Multi-Label Neural Network",
      "provenance": [],
      "authorship_tag": "ABX9TyNLfnVjPfBpsVUvCYiKbfGH",
      "include_colab_link": true
    },
    "kernelspec": {
      "name": "python3",
      "display_name": "Python 3"
    }
  },
  "cells": [
    {
      "cell_type": "markdown",
      "metadata": {
        "id": "view-in-github",
        "colab_type": "text"
      },
      "source": [
        "<a href=\"https://colab.research.google.com/github/edwardj4747/Dataset-Labeling/blob/master/ML_notebooks/Aura_MLS_Multi_Label_Neural_Network.ipynb\" target=\"_parent\"><img src=\"https://colab.research.google.com/assets/colab-badge.svg\" alt=\"Open In Colab\"/></a>"
      ]
    },
    {
      "cell_type": "markdown",
      "metadata": {
        "id": "WtW1NOrgjTHU"
      },
      "source": [
        "No explicit attempt was made to address the problem of some samples being much more commong (ie: ML2O3)"
      ]
    },
    {
      "cell_type": "code",
      "metadata": {
        "id": "R-GQURBYjLw4"
      },
      "source": [
        "import numpy as np\r\n",
        "\r\n",
        "import tensorflow as tf\r\n",
        "from tensorflow import keras\r\n",
        "from tensorflow.keras import layers"
      ],
      "execution_count": null,
      "outputs": []
    },
    {
      "cell_type": "markdown",
      "metadata": {
        "id": "zNZ0_2WPkpCg"
      },
      "source": [
        "Load in the data"
      ]
    },
    {
      "cell_type": "markdown",
      "metadata": {
        "id": "oZ2dkysnlR1l"
      },
      "source": [
        "This is for the broad Threshold case"
      ]
    },
    {
      "cell_type": "code",
      "metadata": {
        "id": "kBCZN745kijV"
      },
      "source": [
        "# Load in the data\r\n",
        "# X = np.load('/content/sample_data/one_hot_5180_features_braod_234_papers.npy')\r\n",
        "# X = np.load('/content/sample_data/tfidf_5179_features_braod_234_papers.npy')\r\n",
        "# X = np.load('/content/sample_data/doc2vec_broad_234_papers_VS_32_epochs_15.npy')\r\n",
        "vector_size=32\r\n",
        "y = np.load('/content/sample_data/ML2xx_num_datasets_9_papers_234.npy')"
      ],
      "execution_count": null,
      "outputs": []
    },
    {
      "cell_type": "code",
      "metadata": {
        "id": "A_aVsNMhTfxM"
      },
      "source": [
        ""
      ],
      "execution_count": null,
      "outputs": []
    },
    {
      "cell_type": "markdown",
      "metadata": {
        "id": "SSAotwVQTaoZ"
      },
      "source": [
        "### Corpus sized Doc2Vec"
      ]
    },
    {
      "cell_type": "markdown",
      "metadata": {
        "id": "juldcKguLdoX"
      },
      "source": [
        "Neural Net did not perform very well using doc2vec trained on only the sentences. See how well it performs using a doc2vec model trained for 100 epochs (45 minutes) on the whole corpus of Aura MLS papers (>200,000 sentences)"
      ]
    },
    {
      "cell_type": "code",
      "metadata": {
        "id": "FH5mnN-gMdCm"
      },
      "source": [
        "# load in the data\r\n",
        "X = np.load('/content/sample_data/doc2vec_ALL_CORPUS_broad_234_papers_VS_32_epochs_100.npy')"
      ],
      "execution_count": null,
      "outputs": []
    },
    {
      "cell_type": "code",
      "metadata": {
        "colab": {
          "base_uri": "https://localhost:8080/"
        },
        "id": "o9Uy7DZHk6Gi",
        "outputId": "af407116-df61-444a-ed3d-039105885621"
      },
      "source": [
        "X.shape, y.shape"
      ],
      "execution_count": null,
      "outputs": [
        {
          "output_type": "execute_result",
          "data": {
            "text/plain": [
              "((234, 32), (234, 9))"
            ]
          },
          "metadata": {
            "tags": []
          },
          "execution_count": 122
        }
      ]
    },
    {
      "cell_type": "code",
      "metadata": {
        "colab": {
          "base_uri": "https://localhost:8080/"
        },
        "id": "quP-pTTYno2x",
        "outputId": "3e464925-5c32-4790-bb4e-289fe48c84b1"
      },
      "source": [
        "test_percentage = 0.2\r\n",
        "test_train_split = int(0.2 * X.shape[0])\r\n",
        "test_train_split"
      ],
      "execution_count": null,
      "outputs": [
        {
          "output_type": "execute_result",
          "data": {
            "text/plain": [
              "46"
            ]
          },
          "metadata": {
            "tags": []
          },
          "execution_count": 123
        }
      ]
    },
    {
      "cell_type": "code",
      "metadata": {
        "colab": {
          "base_uri": "https://localhost:8080/"
        },
        "id": "vhvS0oALn2K2",
        "outputId": "5f219e51-0f47-4e9c-e5e4-b6b23362c088"
      },
      "source": [
        "X_test = X[:test_train_split, :]\r\n",
        "X_train = X[test_train_split:, :]\r\n",
        "\r\n",
        "y_test = y[:test_train_split, :]\r\n",
        "y_train = y[test_train_split:, :]\r\n",
        "\r\n",
        "X_train.shape, y_train.shape, X_test.shape, y_test.shape"
      ],
      "execution_count": null,
      "outputs": [
        {
          "output_type": "execute_result",
          "data": {
            "text/plain": [
              "((188, 32), (188, 9), (46, 32), (46, 9))"
            ]
          },
          "metadata": {
            "tags": []
          },
          "execution_count": 124
        }
      ]
    },
    {
      "cell_type": "code",
      "metadata": {
        "id": "7n1xlz71jeni"
      },
      "source": [
        "model = None\r\n",
        "num_hidden_units = 20\r\n",
        "second_layer_hidden_units = 9\r\n",
        "input = layers.Input(shape=(vector_size,))\r\n",
        "\r\n",
        "x = layers.Dense(num_hidden_units, activation='relu', kernel_regularizer=keras.regularizers.l2())(input)\r\n",
        "x = layers.Dense(second_layer_hidden_units, activation='relu', kernel_regularizer=keras.regularizers.l2())(x)\r\n",
        "x = layers.Dense(9, activation='sigmoid', kernel_regularizer=keras.regularizers.l2())(x)\r\n",
        "\r\n",
        "model = keras.Model(inputs=input, outputs=[x])"
      ],
      "execution_count": null,
      "outputs": []
    },
    {
      "cell_type": "code",
      "metadata": {
        "colab": {
          "base_uri": "https://localhost:8080/"
        },
        "id": "Z011sjHlkhdh",
        "outputId": "bee3600f-b7f2-499c-b66a-a303ac1e0085"
      },
      "source": [
        "model.summary()"
      ],
      "execution_count": null,
      "outputs": [
        {
          "output_type": "stream",
          "text": [
            "Model: \"model_20\"\n",
            "_________________________________________________________________\n",
            "Layer (type)                 Output Shape              Param #   \n",
            "=================================================================\n",
            "input_21 (InputLayer)        [(None, 32)]              0         \n",
            "_________________________________________________________________\n",
            "dense_42 (Dense)             (None, 20)                660       \n",
            "_________________________________________________________________\n",
            "dense_43 (Dense)             (None, 9)                 189       \n",
            "_________________________________________________________________\n",
            "dense_44 (Dense)             (None, 9)                 90        \n",
            "=================================================================\n",
            "Total params: 939\n",
            "Trainable params: 939\n",
            "Non-trainable params: 0\n",
            "_________________________________________________________________\n"
          ],
          "name": "stdout"
        }
      ]
    },
    {
      "cell_type": "code",
      "metadata": {
        "id": "-CU1LYxQlQ50"
      },
      "source": [
        "model.compile(loss=keras.losses.BinaryCrossentropy(), optimizer=keras.optimizers.Adam(),\r\n",
        "              metrics = ['accuracy', 'Precision', 'Recall'])"
      ],
      "execution_count": null,
      "outputs": []
    },
    {
      "cell_type": "code",
      "metadata": {
        "id": "xwkpodIvln8b"
      },
      "source": [
        "num_epochs = 50\r\n",
        "history = model.fit(X_train, y_train, verbose=0, epochs=num_epochs)"
      ],
      "execution_count": null,
      "outputs": []
    },
    {
      "cell_type": "code",
      "metadata": {
        "colab": {
          "base_uri": "https://localhost:8080/"
        },
        "id": "Ka11GUWxlz_u",
        "outputId": "01cd182f-3130-4112-8d7c-c4ca5b029ba9"
      },
      "source": [
        "model.evaluate(X_test, y_test)"
      ],
      "execution_count": null,
      "outputs": [
        {
          "output_type": "stream",
          "text": [
            "WARNING:tensorflow:6 out of the last 11 calls to <function Model.make_test_function.<locals>.test_function at 0x7f11aa9b9950> triggered tf.function retracing. Tracing is expensive and the excessive number of tracings could be due to (1) creating @tf.function repeatedly in a loop, (2) passing tensors with different shapes, (3) passing Python objects instead of tensors. For (1), please define your @tf.function outside of the loop. For (2), @tf.function has experimental_relax_shapes=True option that relaxes argument shapes that can avoid unnecessary retracing. For (3), please refer to https://www.tensorflow.org/guide/function#controlling_retracing and https://www.tensorflow.org/api_docs/python/tf/function for  more details.\n",
            "2/2 [==============================] - 0s 5ms/step - loss: 0.5792 - accuracy: 0.4130 - precision: 0.7419 - recall: 0.3538\n"
          ],
          "name": "stdout"
        },
        {
          "output_type": "execute_result",
          "data": {
            "text/plain": [
              "[0.5792126655578613,\n",
              " 0.41304346919059753,\n",
              " 0.7419354915618896,\n",
              " 0.35384616255760193]"
            ]
          },
          "metadata": {
            "tags": []
          },
          "execution_count": 145
        }
      ]
    },
    {
      "cell_type": "code",
      "metadata": {
        "colab": {
          "base_uri": "https://localhost:8080/",
          "height": 281
        },
        "id": "M9yYZIfuTCjv",
        "outputId": "4d734fc3-f0be-4e49-94d2-a05fafc63459"
      },
      "source": [
        "x_labels = np.arange(num_epochs) + 1\r\n",
        "plt.plot(x_labels, history.history['precision'], label='Precision')\r\n",
        "plt.plot(x_labels, history.history['recall'], label='Recall')\r\n",
        "plt.plot(x_labels, history.history['accuracy'], label='Accuracy')\r\n",
        "plt.plot(x_labels, [0.5] * num_epochs, color='black')\r\n",
        "plt.ylim((0, 1))\r\n",
        "plt.legend()\r\n",
        "plt.title(f\"{num_hidden_units} hidden units\")\r\n",
        "plt.show()"
      ],
      "execution_count": null,
      "outputs": [
        {
          "output_type": "display_data",
          "data": {
            "image/png": "[encoded data removed]",
            "text/plain": [
              "<Figure size 432x288 with 1 Axes>"
            ]
          },
          "metadata": {
            "tags": [],
            "needs_background": "light"
          }
        }
      ]
    },
    {
      "cell_type": "code",
      "metadata": {
        "id": "G0fAyT8oVgz1"
      },
      "source": [
        ""
      ],
      "execution_count": null,
      "outputs": []
    }
  ]
}