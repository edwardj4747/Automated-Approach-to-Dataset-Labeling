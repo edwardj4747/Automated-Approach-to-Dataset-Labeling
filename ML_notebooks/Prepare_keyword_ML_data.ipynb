{
  "nbformat": 4,
  "nbformat_minor": 0,
  "metadata": {
    "colab": {
      "name": "Prepare keyword ML data",
      "provenance": [],
      "authorship_tag": "ABX9TyMOmoF1zYXwehtThF+F6lpB",
      "include_colab_link": true
    },
    "kernelspec": {
      "name": "python3",
      "display_name": "Python 3"
    }
  },
  "cells": [
    {
      "cell_type": "markdown",
      "metadata": {
        "id": "view-in-github",
        "colab_type": "text"
      },
      "source": [
        "<a href=\"https://colab.research.google.com/github/edwardj4747/Dataset-Labeling/blob/master/ML_notebooks/Prepare_keyword_ML_data.ipynb\" target=\"_parent\"><img src=\"https://colab.research.google.com/assets/colab-badge.svg\" alt=\"Open In Colab\"/></a>"
      ]
    },
    {
      "cell_type": "code",
      "metadata": {
        "id": "3Knr1LZF7jS4"
      },
      "source": [
        "import numpy as np\r\n",
        "import json"
      ],
      "execution_count": null,
      "outputs": []
    },
    {
      "cell_type": "code",
      "metadata": {
        "id": "diaajGFo71tm"
      },
      "source": [
        "with open('/content/sample_data/KEYWORD_sentences.json') as f:\r\n",
        "  raw_data = json.load(f)"
      ],
      "execution_count": null,
      "outputs": []
    },
    {
      "cell_type": "markdown",
      "metadata": {
        "id": "jf11Wp15SGYj"
      },
      "source": [
        "Restrict the ground_truths datasets to only ML2xx"
      ]
    },
    {
      "cell_type": "code",
      "metadata": {
        "id": "HXdQ2XAkSA1z"
      },
      "source": [
        "for key, value in raw_data.items():\r\n",
        "  new_ground_truths = []\r\n",
        "  for gt in value['ground_truths']:\r\n",
        "    if gt.startswith(\"ML2\"):\r\n",
        "      new_ground_truths.append(gt)\r\n",
        "  raw_data[key]['ground_truths'] = new_ground_truths"
      ],
      "execution_count": null,
      "outputs": []
    },
    {
      "cell_type": "code",
      "metadata": {
        "colab": {
          "base_uri": "https://localhost:8080/"
        },
        "id": "dNs_yzDA8KnR",
        "outputId": "f1e97f2e-9efa-40c0-b146-900280ffef88"
      },
      "source": [
        "count = 0\r\n",
        "for k, v in raw_data.items():\r\n",
        "  print(k, v)\r\n",
        "  count += 1\r\n",
        "  if count == 3:\r\n",
        "    break"
      ],
      "execution_count": null,
      "outputs": [
        {
          "output_type": "stream",
          "text": [
            "4MFNKR4V {'ground_truths': ['ML2T', 'ML2H2O', 'ML2O3'], 'keyword_sentences': ['t h2o h2o v5 t h2o airs airs', 't h2o t h2o v2 merra-2 t h2o merra-2', 't t t t h2o mls aura aura mls t mls t o3 mls', 'o3 mls mls o3 mls o3 mls h2o mls h2o mls h2o mls h2o airs aqua airs v6 o3 o3 o3 h2o o3 merra-2', 'o3 h2o t h2o airs mls merra v5 merra-2 merra-2 merra merra-2 merra-2', 'merra-2 merra-2 t h2o o3 merra-2 o3 h2o mls t h2o o3 airs mls merra-2', 'merra-2 t o3 merra-2 o3 merra-2 o3 merra-2 h2o h2o merra-2 h2o merra-2 h2o merra-2 airs mls h2o merra-2 h2o', 'merra-2 t merra-2 t merra-2 t t t t merra-2 t t o3 o3 o3 merra-2', 'h2o h2o h2o merra-2 h2o h2o merra-2 h2o t merra-2 merra-2 t merra-2 o3 o3 merra-2 merra-2 h2o', 'h2o merra-2 h2o merra-2 merra-2 t t mls o3 merra-2 o3 merra-2 h2o o3 h2o h2o', 'h2o t t merra-2 t h2o h2o h2o t t t', 't merra-2 o3 h2o t merra-2 t mls o3 o3 merra-2 h2o h2o merra-2 h2o']}\n",
            "ZFGFZZTV {'ground_truths': ['ML2H2O'], 'keyword_sentences': ['h2o h2o h2o t h2o h2o h2o h2o oh h2o o3 so4 h2o h2o h2o h2o', 'h2o t t h2o t', 'h2o h2o o3 h2o h2o h2o', 'h2o h2o h2o h2o t h2o h2o t h2o h2o', 'h2o h2o t h2o t h2o h2o t', 't t t t t goes goes t t t', 't t t t t t t', 'nexrad nexrad nexrad nexrad nexrad', 'nexrad t t nexrad nexrad', 'h2o t t h2o h2o nexrad mls h2o h2o', 'nexrad h2o h2o h2o h2o h2o t h2o h2o h2o h2o co', 't h2o h2o h2o h2o h2o h2o t', 'h2o h2o h2o mls aura h2o mls h2o h2o h2o mls h2o h2o mls h2o v4 h2o mls', 'h2o h2o h2o h2o mls mls h2o h2o h2o', 'h2o mls h2o h2o h2o mls h2o h2o h2o', 'h2o t t h2o h2o nexrad', 'goes nexrad mls nexrad h2o goes h2o h2o h2o', 'h2o goes nexrad h2o h2o']}\n",
            "A2IZ6ZPS {'ground_truths': ['ML2O3'], 'keyword_sentences': ['o3 o3 o3 o3 o3 o3 o3', 'o3 o3 o3 v7 o3 o3 o3 o3 aura mls o3 o3 aura mls v3 v3 o3', 't t o3 o3 o3 o3 o3 o3 o3 o3', 'o3 o3 o3 o3 o3 o3 o3 o3', 'o3 o3 o3 o3 o3 o3 o3 o3 o3', 'o3 o3 t o3 o3 o3 o3 o3 o3 o3 o3', 'o3 o3 o3 o3 o3 o3', 'o3 haloe aura mls o3 o3 o3 toms buv', 'o3 o3 o3 haloe aura mls o3 haloe o3 mls o3 o3 o3 o3 o3', 'o3 o3 o3 o3 o3', 'o3 o3 o3 o3 o3 o3 o3 o3 o3', 'o3 o3 o3 o3 o3 o3 o3 nox', 'o3 o3 o3 o3 o3 o3 o3 o3 o3 o3 o3', 'o3 o3 o3 o3 o3 o3 o3 o3', 'o3 o3 haloe aura uars mls ace-fts t t merra haloe aura mls o3 o3', 'o3 o3 o3 o3 o3 o3 o3 o3 o3 o3 o3 o3 o3 o3 o3 haloe aura mls', 'o3 o3 o3 o3 o3 o3 o3 o3 o3 o3 o3 o3 o3 o3', 'o3 o3 o3 o3 haloe o3 haloe o3']}\n"
          ],
          "name": "stdout"
        }
      ]
    },
    {
      "cell_type": "code",
      "metadata": {
        "colab": {
          "base_uri": "https://localhost:8080/"
        },
        "id": "QQA3Vajy8MdP",
        "outputId": "babab281-7671-4866-b887-62d8693e644b"
      },
      "source": [
        "len(raw_data)"
      ],
      "execution_count": null,
      "outputs": [
        {
          "output_type": "execute_result",
          "data": {
            "text/plain": [
              "247"
            ]
          },
          "metadata": {
            "tags": []
          },
          "execution_count": 5
        }
      ]
    },
    {
      "cell_type": "code",
      "metadata": {
        "colab": {
          "base_uri": "https://localhost:8080/"
        },
        "id": "zvgHnTERlLTu",
        "outputId": "a737c124-7d6c-452e-9258-d40451ac2162"
      },
      "source": [
        "threshold = 10\r\n",
        "counts = {}\r\n",
        "for key, value in raw_data.items():\r\n",
        "  for gt in value['ground_truths']:\r\n",
        "    if gt.startswith(\"ML2\"):\r\n",
        "      counts[gt] = counts.get(gt, 0) + 1\r\n",
        "\r\n",
        "all_datasets_above_threshold = set()\r\n",
        "for key, value in counts.items():\r\n",
        "  if value >= threshold:\r\n",
        "    all_datasets_above_threshold.add(key)\r\n",
        "\r\n",
        "counts, all_datasets_above_threshold"
      ],
      "execution_count": null,
      "outputs": [
        {
          "output_type": "execute_result",
          "data": {
            "text/plain": [
              "({'ML2BRO': 3,\n",
              "  'ML2CH3CL': 4,\n",
              "  'ML2CH3CN': 2,\n",
              "  'ML2CH3Cl': 1,\n",
              "  'ML2CH3OH': 2,\n",
              "  'ML2CLO': 21,\n",
              "  'ML2CO': 36,\n",
              "  'ML2DGG': 1,\n",
              "  'ML2GPH': 6,\n",
              "  'ML2H2O': 69,\n",
              "  'ML2H2O_NRT': 1,\n",
              "  'ML2HCL': 25,\n",
              "  'ML2HCN': 3,\n",
              "  'ML2HCl': 2,\n",
              "  'ML2HNO3': 39,\n",
              "  'ML2HNO3_NRT': 1,\n",
              "  'ML2HO2': 6,\n",
              "  'ML2HOCL': 3,\n",
              "  'ML2IWC': 18,\n",
              "  'ML2N2O': 24,\n",
              "  'ML2NO2': 1,\n",
              "  'ML2O3': 115,\n",
              "  'ML2OH': 9,\n",
              "  'ML2RHI': 6,\n",
              "  'ML2SO2': 5,\n",
              "  'ML2T': 34},\n",
              " {'ML2CLO',\n",
              "  'ML2CO',\n",
              "  'ML2H2O',\n",
              "  'ML2HCL',\n",
              "  'ML2HNO3',\n",
              "  'ML2IWC',\n",
              "  'ML2N2O',\n",
              "  'ML2O3',\n",
              "  'ML2T'})"
            ]
          },
          "metadata": {
            "tags": []
          },
          "execution_count": 6
        }
      ]
    },
    {
      "cell_type": "code",
      "metadata": {
        "id": "VTAFc8J0mg8W"
      },
      "source": [
        "# if want to create a mapping that does not include all datasets\r\n",
        "all_datasets = all_datasets_above_threshold"
      ],
      "execution_count": null,
      "outputs": []
    },
    {
      "cell_type": "code",
      "metadata": {
        "colab": {
          "base_uri": "https://localhost:8080/"
        },
        "id": "FXYLvHVl2fq1",
        "outputId": "32e03c4f-61a4-4e94-cb69-8852ed47f694"
      },
      "source": [
        "dataset_mapping = {dataset: i for i, dataset in enumerate(all_datasets)}\r\n",
        "dataset_mapping"
      ],
      "execution_count": null,
      "outputs": [
        {
          "output_type": "execute_result",
          "data": {
            "text/plain": [
              "{'ML2CLO': 3,\n",
              " 'ML2CO': 7,\n",
              " 'ML2H2O': 0,\n",
              " 'ML2HCL': 6,\n",
              " 'ML2HNO3': 4,\n",
              " 'ML2IWC': 8,\n",
              " 'ML2N2O': 2,\n",
              " 'ML2O3': 1,\n",
              " 'ML2T': 5}"
            ]
          },
          "metadata": {
            "tags": []
          },
          "execution_count": 8
        }
      ]
    },
    {
      "cell_type": "markdown",
      "metadata": {
        "id": "cXHAthTAgzps"
      },
      "source": [
        "###### save the dataset mapping"
      ]
    },
    {
      "cell_type": "code",
      "metadata": {
        "colab": {
          "base_uri": "https://localhost:8080/",
          "height": 35
        },
        "id": "sT_VLehKgVHA",
        "outputId": "caaa2b5b-b576-4e04-e012-e9eb14fb68d9"
      },
      "source": [
        "# save the dataset_mapping\r\n",
        "threshold = str(threshold)\r\n",
        "dataset_mapping_file_name = \"Feb24_\" +str(len(dataset_mapping)) + \"_dataset_mapping_threshold_\" + threshold\r\n",
        "\r\n",
        "with open('ml_ready_data/' + dataset_mapping_file_name + '.json', 'w', encoding='utf-8') as f:\r\n",
        "  json.dump(dataset_mapping, f, indent=4)\r\n",
        "\r\n",
        "dataset_mapping_file_name"
      ],
      "execution_count": null,
      "outputs": [
        {
          "output_type": "execute_result",
          "data": {
            "application/vnd.google.colaboratory.intrinsic+json": {
              "type": "string"
            },
            "text/plain": [
              "'Feb24_9_dataset_mapping_threshold_10'"
            ]
          },
          "metadata": {
            "tags": []
          },
          "execution_count": 29
        }
      ]
    },
    {
      "cell_type": "code",
      "metadata": {
        "id": "Glg1gifc9v4K"
      },
      "source": [
        ""
      ],
      "execution_count": null,
      "outputs": []
    },
    {
      "cell_type": "markdown",
      "metadata": {
        "id": "UsL9sML46vvI"
      },
      "source": [
        "## For each paper create one sentence and the datasets_used vector"
      ]
    },
    {
      "cell_type": "code",
      "metadata": {
        "colab": {
          "base_uri": "https://localhost:8080/"
        },
        "id": "5lv7XSfT8jXE",
        "outputId": "b778c076-b63e-4984-c49a-469ed33e312e"
      },
      "source": [
        "num_papers = len(raw_data)\r\n",
        "num_datasets = len(dataset_mapping)\r\n",
        "num_papers, num_datasets"
      ],
      "execution_count": null,
      "outputs": [
        {
          "output_type": "execute_result",
          "data": {
            "text/plain": [
              "(247, 9)"
            ]
          },
          "metadata": {
            "tags": []
          },
          "execution_count": 12
        }
      ]
    },
    {
      "cell_type": "markdown",
      "metadata": {
        "id": "imjmGxbR_18R"
      },
      "source": [
        "Use all 247 papers, even if they don't have any papers"
      ]
    },
    {
      "cell_type": "code",
      "metadata": {
        "id": "c1tDoqlL-LTe"
      },
      "source": [
        "papers_sentences = []  # one sentence for each paper\r\n",
        "dataset_labels = np.zeros( (num_papers, num_datasets))\r\n",
        "dataset_labels_list = []\r\n",
        "rows_to_delete = []\r\n",
        "\r\n",
        "for index, (key, value) in enumerate(raw_data.items()):\r\n",
        "  if len(value['keyword_sentences']) == 0:\r\n",
        "    rows_to_delete.append(index)\r\n",
        "    continue\r\n",
        "  document_sentences = '. '.join(value['keyword_sentences'])\r\n",
        "  papers_sentences.append(document_sentences)\r\n",
        "\r\n",
        "#   # add in the datasets\r\n",
        "  for gt in value['ground_truths']:\r\n",
        "    if dataset_mapping.get(gt, None) is not None:  # some keys may not have values b/c didn't meet threshold\r\n",
        "      dataset_labels[index, dataset_mapping[gt]] = 1\r\n",
        "\r\n",
        "dataset_labels = np.delete(dataset_labels, rows_to_delete, 0)"
      ],
      "execution_count": null,
      "outputs": []
    },
    {
      "cell_type": "code",
      "metadata": {
        "colab": {
          "base_uri": "https://localhost:8080/"
        },
        "id": "P0kS1r8g_L9L",
        "outputId": "a32e3847-6584-4323-b7d0-078a64a61d1d"
      },
      "source": [
        "len(papers_sentences), dataset_labels.shape"
      ],
      "execution_count": null,
      "outputs": [
        {
          "output_type": "execute_result",
          "data": {
            "text/plain": [
              "(243, (243, 9))"
            ]
          },
          "metadata": {
            "tags": []
          },
          "execution_count": 16
        }
      ]
    },
    {
      "cell_type": "markdown",
      "metadata": {
        "id": "BWCd2Hm8AINj"
      },
      "source": [
        "Create integer encoded words for use with an embedding layer later"
      ]
    },
    {
      "cell_type": "code",
      "metadata": {
        "id": "Rrq08C_uABWI"
      },
      "source": [
        "from keras.preprocessing.text import Tokenizer"
      ],
      "execution_count": null,
      "outputs": []
    },
    {
      "cell_type": "code",
      "metadata": {
        "id": "Jjyqx-joABbH"
      },
      "source": [
        "tokenizer = Tokenizer(filters='!\"#$%&()*+,.:;<=>?@[\\\\]^_`{|}~\\t\\n')  # remove / and - 'noaa-18' to noaa18"
      ],
      "execution_count": null,
      "outputs": []
    },
    {
      "cell_type": "code",
      "metadata": {
        "id": "lp_Q253EABdi"
      },
      "source": [
        "tokenizer.fit_on_texts(papers_sentences)"
      ],
      "execution_count": null,
      "outputs": []
    },
    {
      "cell_type": "code",
      "metadata": {
        "id": "y134zlyxABh9",
        "colab": {
          "base_uri": "https://localhost:8080/"
        },
        "outputId": "551d7491-b9a5-4520-d408-7b4c5c1ed69a"
      },
      "source": [
        "len(tokenizer.word_index)  # number of unique words"
      ],
      "execution_count": null,
      "outputs": [
        {
          "output_type": "execute_result",
          "data": {
            "text/plain": [
              "119"
            ]
          },
          "metadata": {
            "tags": []
          },
          "execution_count": 22
        }
      ]
    },
    {
      "cell_type": "code",
      "metadata": {
        "colab": {
          "base_uri": "https://localhost:8080/"
        },
        "id": "i0m-Hm55Agl_",
        "outputId": "9f907f27-2eab-441b-fb9e-955bcaa83702"
      },
      "source": [
        "int_encoded_sequences = tokenizer.texts_to_sequences(papers_sentences)\r\n",
        "len(int_encoded_sequences)"
      ],
      "execution_count": null,
      "outputs": [
        {
          "output_type": "execute_result",
          "data": {
            "text/plain": [
              "243"
            ]
          },
          "metadata": {
            "tags": []
          },
          "execution_count": 23
        }
      ]
    },
    {
      "cell_type": "markdown",
      "metadata": {
        "id": "zryLUL8tCNlD"
      },
      "source": [
        "Save the integer encoded representations"
      ]
    },
    {
      "cell_type": "code",
      "metadata": {
        "colab": {
          "base_uri": "https://localhost:8080/",
          "height": 35
        },
        "id": "_7jkb3l7b-5R",
        "outputId": "f538485c-51f5-490b-c3fb-2fa5ab220e3e"
      },
      "source": [
        "# save the X data\r\n",
        "x_file_name = \"Feb24_int_encoded_miv_plus_version_243_papers_119_words\"\r\n",
        "x_file_name"
      ],
      "execution_count": null,
      "outputs": [
        {
          "output_type": "execute_result",
          "data": {
            "application/vnd.google.colaboratory.intrinsic+json": {
              "type": "string"
            },
            "text/plain": [
              "'Feb24_int_encoded_miv_plus_version_243_papers_119_words'"
            ]
          },
          "metadata": {
            "tags": []
          },
          "execution_count": 25
        }
      ]
    },
    {
      "cell_type": "code",
      "metadata": {
        "id": "Yf0BpEW0ozIb"
      },
      "source": [
        "with open('/content/ml_ready_data/' + x_file_name + '.json', 'w') as f:\r\n",
        "  json.dump(int_encoded_sequences, f, indent=4)"
      ],
      "execution_count": null,
      "outputs": []
    },
    {
      "cell_type": "markdown",
      "metadata": {
        "id": "bKLG0y1vCRWA"
      },
      "source": [
        "Save the dataset and mapping"
      ]
    },
    {
      "cell_type": "code",
      "metadata": {
        "colab": {
          "base_uri": "https://localhost:8080/",
          "height": 35
        },
        "id": "Y1k8mZBZAgtq",
        "outputId": "ca370afa-516f-484c-8e0e-0b49e6704862"
      },
      "source": [
        "# save the dataset_mapping\r\n",
        "threshold = str(threshold)\r\n",
        "dataset_mapping_file_name = \"Feb24_\"+ str(len(dataset_mapping)) + \"_dataset_mapping_threshold_\" + threshold + '_243_papers'\r\n",
        "\r\n",
        "with open('ml_ready_data/' + dataset_mapping_file_name + '.json', 'w', encoding='utf-8') as f:\r\n",
        "  json.dump(dataset_mapping, f, indent=4)\r\n",
        "\r\n",
        "dataset_mapping_file_name"
      ],
      "execution_count": null,
      "outputs": [
        {
          "output_type": "execute_result",
          "data": {
            "application/vnd.google.colaboratory.intrinsic+json": {
              "type": "string"
            },
            "text/plain": [
              "'Feb24_9_dataset_mapping_threshold_10_243_papers'"
            ]
          },
          "metadata": {
            "tags": []
          },
          "execution_count": 33
        }
      ]
    },
    {
      "cell_type": "code",
      "metadata": {
        "id": "eY0oVBKpDEe_"
      },
      "source": [
        ""
      ],
      "execution_count": null,
      "outputs": []
    },
    {
      "cell_type": "code",
      "metadata": {
        "colab": {
          "base_uri": "https://localhost:8080/",
          "height": 35
        },
        "id": "Y8MOiW9cb_H2",
        "outputId": "eb93d034-2bf2-4984-ebf2-3c2456eb3e15"
      },
      "source": [
        "# save the y data\r\n",
        "dataset_labels.shape\r\n",
        "y_file_name = \"Feb24_ML2xx_num_datasets_\" + str(dataset_labels.shape[1]) + \"_papers_\" + str(dataset_labels.shape[0])\r\n",
        "y_file_name"
      ],
      "execution_count": null,
      "outputs": [
        {
          "output_type": "execute_result",
          "data": {
            "application/vnd.google.colaboratory.intrinsic+json": {
              "type": "string"
            },
            "text/plain": [
              "'Feb24_ML2xx_num_datasets_9_papers_243'"
            ]
          },
          "metadata": {
            "tags": []
          },
          "execution_count": 30
        }
      ]
    },
    {
      "cell_type": "code",
      "metadata": {
        "id": "yWE4YbMVo_YY"
      },
      "source": [
        "with open('/content/ml_ready_data/' + y_file_name + '.npy', 'wb') as f:\r\n",
        "  np.save(f, dataset_labels)"
      ],
      "execution_count": null,
      "outputs": []
    },
    {
      "cell_type": "code",
      "metadata": {
        "id": "uoRW5xGJp4la"
      },
      "source": [
        ""
      ],
      "execution_count": null,
      "outputs": []
    }
  ]
}