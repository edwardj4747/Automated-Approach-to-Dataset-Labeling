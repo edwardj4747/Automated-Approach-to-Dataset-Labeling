{
  "nbformat": 4,
  "nbformat_minor": 0,
  "metadata": {
    "colab": {
      "name": "Doc2Vec on Entire Text Corpus",
      "provenance": [],
      "authorship_tag": "ABX9TyMbzBNuCZjPg01sg3qmjG/Q",
      "include_colab_link": true
    },
    "kernelspec": {
      "name": "python3",
      "display_name": "Python 3"
    }
  },
  "cells": [
    {
      "cell_type": "markdown",
      "metadata": {
        "id": "view-in-github",
        "colab_type": "text"
      },
      "source": [
        "<a href=\"https://colab.research.google.com/github/edwardj4747/Dataset-Labeling/blob/master/ML_notebooks/Doc2Vec_on_Entire_Text_Corpus.ipynb\" target=\"_parent\"><img src=\"https://colab.research.google.com/assets/colab-badge.svg\" alt=\"Open In Colab\"/></a>"
      ]
    },
    {
      "cell_type": "code",
      "metadata": {
        "id": "efZzD9ApaZ-m"
      },
      "source": [
        "from gensim.models.doc2vec import Doc2Vec, TaggedDocument\r\n",
        "from nltk.tokenize import word_tokenize\r\n",
        "from nltk.corpus import stopwords"
      ],
      "execution_count": null,
      "outputs": []
    },
    {
      "cell_type": "code",
      "metadata": {
        "id": "lPzCeduBaioQ"
      },
      "source": [
        "import json\r\n",
        "\r\n",
        "with open('/content/sample_data/all_sentences_for_doc2vec.json') as f:\r\n",
        "  all_sentences = json.load(f)"
      ],
      "execution_count": null,
      "outputs": []
    },
    {
      "cell_type": "code",
      "metadata": {
        "colab": {
          "base_uri": "https://localhost:8080/"
        },
        "id": "D8VL-D-ZgAXd",
        "outputId": "ed8f5b68-abdc-4940-cca8-28cd6c1877fd"
      },
      "source": [
        "len(all_sentences)"
      ],
      "execution_count": null,
      "outputs": [
        {
          "output_type": "execute_result",
          "data": {
            "text/plain": [
              "200187"
            ]
          },
          "metadata": {
            "tags": []
          },
          "execution_count": 45
        }
      ]
    },
    {
      "cell_type": "markdown",
      "metadata": {
        "id": "0yDx418efhnl"
      },
      "source": [
        "Create one big corpus of documents\r\n"
      ]
    },
    {
      "cell_type": "code",
      "metadata": {
        "id": "wp6jPK0ZflHp"
      },
      "source": [
        "tagged_docs = [TaggedDocument(words=s.strip(), tags=[i]) for i, s in enumerate(all_sentences)]"
      ],
      "execution_count": null,
      "outputs": []
    },
    {
      "cell_type": "code",
      "metadata": {
        "colab": {
          "base_uri": "https://localhost:8080/"
        },
        "id": "rqyvwUjtgIf2",
        "outputId": "bf4d3602-8a24-4f0c-c7a5-15b36fb2ff7f"
      },
      "source": [
        "tagged_docs[1]"
      ],
      "execution_count": null,
      "outputs": [
        {
          "output_type": "execute_result",
          "data": {
            "text/plain": [
              "TaggedDocument(words='we report measurements gaseous constituents derie absorption infrared solar radiation atmosphere aircraft platform', tags=[1])"
            ]
          },
          "metadata": {
            "tags": []
          },
          "execution_count": 47
        }
      ]
    },
    {
      "cell_type": "code",
      "metadata": {
        "id": "3o5PL8G4Ht2G"
      },
      "source": [
        "model = None"
      ],
      "execution_count": null,
      "outputs": []
    },
    {
      "cell_type": "code",
      "metadata": {
        "id": "ptNfO1H1Ht2H"
      },
      "source": [
        "model = Doc2Vec(vector_size=64, min_count=1, epochs=100)"
      ],
      "execution_count": null,
      "outputs": []
    },
    {
      "cell_type": "code",
      "metadata": {
        "id": "gV1pchpQHt2H"
      },
      "source": [
        "model.build_vocab(tagged_docs)"
      ],
      "execution_count": null,
      "outputs": []
    },
    {
      "cell_type": "code",
      "metadata": {
        "id": "F2XTf97rHt2H"
      },
      "source": [
        "model.train(tagged_docs, total_examples=model.corpus_count, epochs=model.epochs)"
      ],
      "execution_count": null,
      "outputs": []
    },
    {
      "cell_type": "code",
      "metadata": {
        "colab": {
          "base_uri": "https://localhost:8080/"
        },
        "id": "oJ-P9ZzdHt2H",
        "outputId": "ae7ad7e3-91e7-4b23-9854-d50aec7827b7"
      },
      "source": [
        "model.total_train_time"
      ],
      "execution_count": null,
      "outputs": [
        {
          "output_type": "execute_result",
          "data": {
            "text/plain": [
              "2488.9861631490057"
            ]
          },
          "metadata": {
            "tags": []
          },
          "execution_count": 104
        }
      ]
    },
    {
      "cell_type": "code",
      "metadata": {
        "id": "VK0mNTucxucv"
      },
      "source": [
        "model.save('sample_data/vs64e100_200k_sentences')"
      ],
      "execution_count": null,
      "outputs": []
    },
    {
      "cell_type": "code",
      "metadata": {
        "id": "xKeocEfG9WMX"
      },
      "source": [
        ""
      ],
      "execution_count": null,
      "outputs": []
    },
    {
      "cell_type": "code",
      "metadata": {
        "id": "L0MJQtQn9WPX"
      },
      "source": [
        "s = \"aura mls data o3 was collected analyzed\""
      ],
      "execution_count": null,
      "outputs": []
    },
    {
      "cell_type": "code",
      "metadata": {
        "id": "eP16XA-w9WSJ"
      },
      "source": [
        "a, b = model.infer_vector(s), model.infer_vector(s)"
      ],
      "execution_count": null,
      "outputs": []
    },
    {
      "cell_type": "code",
      "metadata": {
        "id": "hJixhrC49Wa6"
      },
      "source": [
        "import sklearn"
      ],
      "execution_count": null,
      "outputs": []
    },
    {
      "cell_type": "code",
      "metadata": {
        "colab": {
          "base_uri": "https://localhost:8080/"
        },
        "id": "qG_v1PRf_2So",
        "outputId": "28f81907-9253-42e3-9a32-08ade29ce3d8"
      },
      "source": [
        "sklearn.metrics.pairwise.cosine_similarity(a.reshape(1, -1), b.reshape(1, -1))"
      ],
      "execution_count": null,
      "outputs": [
        {
          "output_type": "execute_result",
          "data": {
            "text/plain": [
              "array([[0.98587793]], dtype=float32)"
            ]
          },
          "metadata": {
            "tags": []
          },
          "execution_count": 65
        }
      ]
    },
    {
      "cell_type": "code",
      "metadata": {
        "colab": {
          "base_uri": "https://localhost:8080/"
        },
        "id": "hyqCZm8A_2VI",
        "outputId": "5b42ffc1-24f2-4045-ab65-2e25fb721bdb"
      },
      "source": [
        "model.infer_vector(s)"
      ],
      "execution_count": null,
      "outputs": [
        {
          "output_type": "execute_result",
          "data": {
            "text/plain": [
              "array([-1.2891493 , -0.23135225,  0.38514924,  0.5073988 ,  0.05126322,\n",
              "       -0.27043006,  1.411857  ,  0.11516434, -1.6399399 , -0.4710636 ,\n",
              "       -1.2398226 , -0.53818685,  0.6089295 ,  0.2778148 ,  0.06959367,\n",
              "       -0.38868788,  1.2992973 ,  1.1451858 , -0.9897987 ,  0.34658942,\n",
              "       -1.7820119 ,  0.08386812, -1.1559954 ,  0.32830986, -1.0759057 ,\n",
              "        0.4657529 , -0.68245775,  0.682519  , -0.5626978 ,  0.48898342,\n",
              "        0.9107849 ,  0.36281028], dtype=float32)"
            ]
          },
          "metadata": {
            "tags": []
          },
          "execution_count": 70
        }
      ]
    },
    {
      "cell_type": "code",
      "metadata": {
        "colab": {
          "base_uri": "https://localhost:8080/"
        },
        "id": "_7r2XZZmJZD1",
        "outputId": "401db1de-f1a0-42ab-8506-b7078dd350a6"
      },
      "source": [
        "model.docvecs.most_similar([model.infer_vector(s, steps=5000)])"
      ],
      "execution_count": null,
      "outputs": [
        {
          "output_type": "execute_result",
          "data": {
            "text/plain": [
              "[(112150, 0.6859285831451416),\n",
              " (111397, 0.6748607754707336),\n",
              " (125566, 0.6742912530899048),\n",
              " (129709, 0.6728695631027222),\n",
              " (45889, 0.6683974266052246),\n",
              " (189328, 0.6573872566223145),\n",
              " (97589, 0.651667058467865),\n",
              " (50146, 0.6516072154045105),\n",
              " (99268, 0.6507033109664917),\n",
              " (160672, 0.6495048999786377)]"
            ]
          },
          "metadata": {
            "tags": []
          },
          "execution_count": 90
        }
      ]
    },
    {
      "cell_type": "code",
      "metadata": {
        "colab": {
          "base_uri": "https://localhost:8080/"
        },
        "id": "feoRQm92KBCN",
        "outputId": "b33891aa-15d4-432a-df9d-ef01f1b38134"
      },
      "source": [
        "model.docvecs.most_similar([model.infer_vector(s, steps=50000)])"
      ],
      "execution_count": null,
      "outputs": [
        {
          "output_type": "execute_result",
          "data": {
            "text/plain": [
              "[(45889, 0.6423873901367188),\n",
              " (111397, 0.6396235823631287),\n",
              " (112150, 0.634783923625946),\n",
              " (81137, 0.6345140933990479),\n",
              " (125566, 0.6280843019485474),\n",
              " (99268, 0.6275743246078491),\n",
              " (97589, 0.6185312271118164),\n",
              " (129709, 0.6182960271835327),\n",
              " (116972, 0.6115347743034363),\n",
              " (51614, 0.6094900369644165)]"
            ]
          },
          "metadata": {
            "tags": []
          },
          "execution_count": 98
        }
      ]
    },
    {
      "cell_type": "code",
      "metadata": {
        "colab": {
          "base_uri": "https://localhost:8080/"
        },
        "id": "j2fCi2CiJe8D",
        "outputId": "2735396c-1978-40c3-e6ea-6dc15e518dda"
      },
      "source": [
        "for index, similarity in model.docvecs.most_similar([model.infer_vector(s, steps=50000)]):\r\n",
        "  print(index, tagged_docs[index])"
      ],
      "execution_count": null,
      "outputs": [
        {
          "output_type": "stream",
          "text": [
            "45889 TaggedDocument(lieey et al made detaie characterization validation mls co o3 data utls observations used study screened according recommendations, [45889])\n",
            "111397 TaggedDocument(zonal cross sections n w e longitude hpa vertical model o3 model co b o3 analyses c co analyses d, [111397])\n",
            "112150 TaggedDocument(lal et al nair et al also employed o3 analyzer descrie study, [112150])\n",
            "81137 TaggedDocument(o3 stratospheric trends obtaie monthly zonal mean data version aura mls models fr-waccm sd-waccm multiple lier regression analyses deseasonalie anomaly tieseries descrie text, [81137])\n",
            "125566 TaggedDocument(lieey et al made detaie characterization validation mls co o3 data utls, [125566])\n",
            "99268 TaggedDocument(mozart-3 used macc reanalysis system descrie stein et al, [99268])\n",
            "129709 TaggedDocument(gozcards o3 source data records we used o3 data sets sage i sage ii haloe uars mls ace-fts aura mls generate monthly zonal mean source products gozcards, [129709])\n",
            "97589 TaggedDocument(the seasonal cycle total o3 well reproduced ifs-mozart bascoe tm3dam analyses results close biases, [97589])\n",
            "116972 TaggedDocument(analyzed data indicate reduction mls integrated o3 column values, [116972])\n",
            "8868 TaggedDocument(mozaic observations used document utls o3 structure demonstrate relationship meteorological features well study longterm trends utls o3 concentrations, [8868])\n"
          ],
          "name": "stdout"
        }
      ]
    },
    {
      "cell_type": "markdown",
      "metadata": {
        "id": "sO4YN7KFLSE6"
      },
      "source": [
        "Want to modify this to only look at those with more than a certain threshold"
      ]
    },
    {
      "cell_type": "code",
      "metadata": {
        "colab": {
          "base_uri": "https://localhost:8080/"
        },
        "id": "zo8cUvxaHt2H",
        "outputId": "55d5412e-63e6-4dec-f4dd-b27e9cd8a303"
      },
      "source": [
        "# sanity check. Check how many fall into the same group\r\n",
        "count = 0\r\n",
        "for i in range(len(tagged_train_data)):\r\n",
        "  inferred_vector = model.infer_vector(tagged_train_data[i].words)\r\n",
        "  most_similar = model.docvecs.most_similar([inferred_vector], topn=1)[0][0]\r\n",
        "  # print(most_similar)\r\n",
        "  desired_tag = re.sub(r'\\)[0-9]+', ')', tagged_train_data[i].tags[0])\r\n",
        "  # print(desired_tag)\r\n",
        "  if most_similar.startswith(desired_tag):\r\n",
        "    count += 1\r\n",
        "\r\n",
        "print(count, '/', len(tagged_train_data))\r\n",
        "print(count/len(tagged_train_data))"
      ],
      "execution_count": null,
      "outputs": [
        {
          "output_type": "stream",
          "text": [
            "147 / 636\n",
            "0.23113207547169812\n"
          ],
          "name": "stdout"
        }
      ]
    },
    {
      "cell_type": "code",
      "metadata": {
        "colab": {
          "base_uri": "https://localhost:8080/"
        },
        "id": "9MhGtFMCHp_M",
        "outputId": "822dccdd-67b4-4f6e-ec7e-c30ce892eba9"
      },
      "source": [
        "# sanity check. Check how many fall into the same group\r\n",
        "count = 0\r\n",
        "for i in range(len(tagged_test_data)):\r\n",
        "  inferred_vector = model.infer_vector(tagged_test_data[i].words)\r\n",
        "  most_similar = model.docvecs.most_similar([inferred_vector], topn=1)[0][0]\r\n",
        "  # print(most_similar)\r\n",
        "  desired_tag = re.sub(r'\\)[0-9]+', ')', tagged_test_data[i].tags[0])\r\n",
        "  # print(desired_tag)\r\n",
        "  if most_similar.startswith(desired_tag):\r\n",
        "    count += 1\r\n",
        "\r\n",
        "print(count, '/', len(tagged_test_data))\r\n",
        "print(count/len(tagged_test_data))"
      ],
      "execution_count": null,
      "outputs": [
        {
          "output_type": "stream",
          "text": [
            "37 / 164\n",
            "0.22560975609756098\n"
          ],
          "name": "stdout"
        }
      ]
    },
    {
      "cell_type": "code",
      "metadata": {
        "id": "jTqwH4XEHqB7"
      },
      "source": [
        ""
      ],
      "execution_count": null,
      "outputs": []
    },
    {
      "cell_type": "code",
      "metadata": {
        "id": "Pj5A8UGWZbbS"
      },
      "source": [
        ""
      ],
      "execution_count": null,
      "outputs": []
    }
  ]
}